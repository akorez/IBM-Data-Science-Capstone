{
 "cells": [
  {
   "cell_type": "markdown",
   "metadata": {},
   "source": [
    "#  SpaceX EDX SQL Server\n",
    "## Objectives\n",
    "\n",
    "Writing and executing SQL queries to solve the questions being asked."
   ]
  },
  {
   "cell_type": "markdown",
   "metadata": {},
   "source": [
    "\n",
    "#### The dataset used to be queried can be found below.\n",
    "\n",
    "In many cases the dataset to be analyzed is available as a .CSV (comma separated values) file, perhaps on the internet. Click on the link below to download and save the dataset (.CSV file):\n",
    "\n",
    "<a href=\"https://cf-courses-data.s3.us.cloud-object-storage.appdomain.cloud/IBM-DS0321EN-SkillsNetwork/labs/module_2/data/Spacex.csv?utm_medium=Exinfluencer&utm_source=Exinfluencer&utm_content=000026UJ&utm_term=10006555&utm_id=NA-SkillsNetwork-Channel-SkillsNetworkCoursesIBMDS0321ENSkillsNetwork26802033-2021-01-01\" target=\"_blank\">SpaceX DataSet</a>\n",
    "\n",
    "\n",
    "### Connect to the database\n",
    "\n",
    "Let us first load the SQL extension and establish a connection with the database\n",
    "\n",
    "As <code> IBM's DB2 guidelines on this notebook doesnt work </code> I will implement the SQL queries using my normal Microsoft SQL Server instance using my own library <code> 'sqlserver' </code> for other info on my libary visit https://github.com/ADGVLOGS/pythonsqlserverclass \n"
   ]
  },
  {
   "cell_type": "code",
   "execution_count": 1,
   "metadata": {},
   "outputs": [
    {
     "name": "stdout",
     "output_type": "stream",
     "text": [
      "/opt/conda/envs/Python-3.7-main/lib/python3.7/site-packages/secretstorage/dhcrypto.py:16: CryptographyDeprecationWarning: int_from_bytes is deprecated, use int.from_bytes instead\n",
      "  from cryptography.utils import int_from_bytes\n",
      "/opt/conda/envs/Python-3.7-main/lib/python3.7/site-packages/secretstorage/util.py:25: CryptographyDeprecationWarning: int_from_bytes is deprecated, use int.from_bytes instead\n",
      "  from cryptography.utils import int_from_bytes\n",
      "Collecting sqlserver\n",
      "  Downloading sqlserver-0.0.4.tar.gz (2.9 kB)\n",
      "Requirement already satisfied: pyodbc in /opt/conda/envs/Python-3.7-main/lib/python3.7/site-packages (from sqlserver) (4.0.0-unsupported)\n",
      "Building wheels for collected packages: sqlserver\n",
      "  Building wheel for sqlserver (setup.py) ... \u001b[?25ldone\n",
      "\u001b[?25h  Created wheel for sqlserver: filename=sqlserver-0.0.4-py3-none-any.whl size=2983 sha256=d7a6445a8f8724565aca45a1aac76d097e1ac4238c4292e5a5c8c021d9a4861f\n",
      "  Stored in directory: /tmp/wsuser/.cache/pip/wheels/81/17/65/2e9e92ba3f82544a877f975582a7a2778a9d53b43b7478ba49\n",
      "Successfully built sqlserver\n",
      "Installing collected packages: sqlserver\n",
      "Successfully installed sqlserver-0.0.4\n"
     ]
    }
   ],
   "source": [
    "!pip install sqlserver"
   ]
  },
  {
   "cell_type": "markdown",
   "metadata": {},
   "source": [
    "### Initialization\n",
    "\n",
    "the .sqlserver() object parameters stands for \n",
    "(ip,portnumber,databasename,username,password)  "
   ]
  },
  {
   "cell_type": "code",
   "execution_count": 7,
   "metadata": {},
   "outputs": [],
   "source": [
    "import sqlserver as ss \n",
    "db = ss.sqlserver('localhost','1433','SpaceX','admin','admin')"
   ]
  },
  {
   "cell_type": "markdown",
   "metadata": {},
   "source": [
    "#### Display the names of the unique launch sites  in the space mission\n"
   ]
  },
  {
   "cell_type": "code",
   "execution_count": 8,
   "metadata": {},
   "outputs": [
    {
     "data": {
      "text/plain": [
       "['CCAFS LC-40', 'CCAFS SLC-40', 'CCAFSSLC-40', 'KSC LC-39A', 'VAFB SLC-4E']"
      ]
     },
     "execution_count": 8,
     "metadata": {},
     "output_type": "execute_result"
    }
   ],
   "source": [
    "db.GetRecordsOfColumn('select DISTINCT Launch_Site from tblSpaceX','Launch_Site')"
   ]
  },
  {
   "cell_type": "markdown",
   "metadata": {},
   "source": [
    "#### Display 5 records where launch sites begin with the string 'KSC'\n"
   ]
  },
  {
   "cell_type": "code",
   "execution_count": 41,
   "metadata": {},
   "outputs": [
    {
     "data": {
      "text/html": [
       "<div>\n",
       "<style scoped>\n",
       "    .dataframe tbody tr th:only-of-type {\n",
       "        vertical-align: middle;\n",
       "    }\n",
       "\n",
       "    .dataframe tbody tr th {\n",
       "        vertical-align: top;\n",
       "    }\n",
       "\n",
       "    .dataframe thead th {\n",
       "        text-align: right;\n",
       "    }\n",
       "</style>\n",
       "<table border=\"1\" class=\"dataframe\">\n",
       "  <thead>\n",
       "    <tr style=\"text-align: right;\">\n",
       "      <th></th>\n",
       "      <th>Date</th>\n",
       "      <th>Time_UTC</th>\n",
       "      <th>Booster_Version</th>\n",
       "      <th>Launch_Site</th>\n",
       "      <th>Payload</th>\n",
       "      <th>PAYLOAD_MASS_KG_</th>\n",
       "      <th>Orbit</th>\n",
       "      <th>Customer</th>\n",
       "      <th>Mission_Outcome</th>\n",
       "      <th>Landing_Outcome</th>\n",
       "    </tr>\n",
       "  </thead>\n",
       "  <tbody>\n",
       "    <tr>\n",
       "      <th>0</th>\n",
       "      <td>19-02-2017</td>\n",
       "      <td>2021-07-02 14:39:00.0000000</td>\n",
       "      <td>F9 FT B1031.1</td>\n",
       "      <td>KSC LC-39A</td>\n",
       "      <td>SpaceX CRS-10</td>\n",
       "      <td>2490</td>\n",
       "      <td>LEO (ISS)</td>\n",
       "      <td>NASA (CRS)</td>\n",
       "      <td>Success</td>\n",
       "      <td>Success (ground pad)</td>\n",
       "    </tr>\n",
       "    <tr>\n",
       "      <th>1</th>\n",
       "      <td>16-03-2017</td>\n",
       "      <td>2021-07-02 06:00:00.0000000</td>\n",
       "      <td>F9 FT B1030</td>\n",
       "      <td>KSC LC-39A</td>\n",
       "      <td>EchoStar 23</td>\n",
       "      <td>5600</td>\n",
       "      <td>GTO</td>\n",
       "      <td>EchoStar</td>\n",
       "      <td>Success</td>\n",
       "      <td>No attempt</td>\n",
       "    </tr>\n",
       "    <tr>\n",
       "      <th>2</th>\n",
       "      <td>30-03-2017</td>\n",
       "      <td>2021-07-02 22:27:00.0000000</td>\n",
       "      <td>F9 FT  B1021.2</td>\n",
       "      <td>KSC LC-39A</td>\n",
       "      <td>SES-10</td>\n",
       "      <td>5300</td>\n",
       "      <td>GTO</td>\n",
       "      <td>SES</td>\n",
       "      <td>Success</td>\n",
       "      <td>Success (drone ship)</td>\n",
       "    </tr>\n",
       "    <tr>\n",
       "      <th>3</th>\n",
       "      <td>01-05-2017</td>\n",
       "      <td>2021-07-02 11:15:00.0000000</td>\n",
       "      <td>F9 FT B1032.1</td>\n",
       "      <td>KSC LC-39A</td>\n",
       "      <td>NROL-76</td>\n",
       "      <td>5300</td>\n",
       "      <td>LEO</td>\n",
       "      <td>NRO</td>\n",
       "      <td>Success</td>\n",
       "      <td>Success (ground pad)</td>\n",
       "    </tr>\n",
       "    <tr>\n",
       "      <th>4</th>\n",
       "      <td>15-05-2017</td>\n",
       "      <td>2021-07-02 23:21:00.0000000</td>\n",
       "      <td>F9 FT B1034</td>\n",
       "      <td>KSC LC-39A</td>\n",
       "      <td>Inmarsat-5 F4</td>\n",
       "      <td>6070</td>\n",
       "      <td>GTO</td>\n",
       "      <td>Inmarsat</td>\n",
       "      <td>Success</td>\n",
       "      <td>No attempt</td>\n",
       "    </tr>\n",
       "  </tbody>\n",
       "</table>\n",
       "</div>"
      ],
      "text/plain": [
       "         Date  ...       Landing_Outcome\n",
       "0  19-02-2017  ...  Success (ground pad)\n",
       "1  16-03-2017  ...            No attempt\n",
       "2  30-03-2017  ...  Success (drone ship)\n",
       "3  01-05-2017  ...  Success (ground pad)\n",
       "4  15-05-2017  ...            No attempt\n",
       "\n",
       "[5 rows x 10 columns]"
      ]
     },
     "execution_count": 41,
     "metadata": {},
     "output_type": "execute_result"
    }
   ],
   "source": [
    "import pyodbc\n",
    "import pandas as pd \n",
    "import numpy as np\n",
    "conn = pyodbc.connect('Driver={SQL Server};'\n",
    "                                  'Server=localhost;'\n",
    "                                  'Database=SpaceX;'\n",
    "                                  'User ID=admin;Password=admin;')\n",
    "cursor = conn.cursor()\n",
    "\n",
    "cursor.execute(\"select TOP 5 * from tblSpaceX WHERE Launch_Site LIKE 'KSC%'\")\n",
    "columns = [column[0] for column in cursor.description]\n",
    "results = []\n",
    "for row in cursor.fetchall():   \n",
    "     results.append(dict(zip(columns, row)))\n",
    "\n",
    "df = pd.DataFrame.from_dict(results)\n",
    "df"
   ]
  },
  {
   "cell_type": "markdown",
   "metadata": {},
   "source": [
    "#### Display the total payload mass carried by boosters launched by NASA (CRS)\n"
   ]
  },
  {
   "cell_type": "code",
   "execution_count": 57,
   "metadata": {},
   "outputs": [
    {
     "data": {
      "text/html": [
       "<div>\n",
       "<style scoped>\n",
       "    .dataframe tbody tr th:only-of-type {\n",
       "        vertical-align: middle;\n",
       "    }\n",
       "\n",
       "    .dataframe tbody tr th {\n",
       "        vertical-align: top;\n",
       "    }\n",
       "\n",
       "    .dataframe thead th {\n",
       "        text-align: right;\n",
       "    }\n",
       "</style>\n",
       "<table border=\"1\" class=\"dataframe\">\n",
       "  <thead>\n",
       "    <tr style=\"text-align: right;\">\n",
       "      <th></th>\n",
       "      <th>Total Payload Mass</th>\n",
       "    </tr>\n",
       "  </thead>\n",
       "  <tbody>\n",
       "    <tr>\n",
       "      <th>0</th>\n",
       "      <td>45596</td>\n",
       "    </tr>\n",
       "  </tbody>\n",
       "</table>\n",
       "</div>"
      ],
      "text/plain": [
       "   Total Payload Mass\n",
       "0               45596"
      ]
     },
     "execution_count": 57,
     "metadata": {},
     "output_type": "execute_result"
    }
   ],
   "source": [
    "TPM = db.GetRecordsOfColumn(\"select SUM(PAYLOAD_MASS_KG_) TotalPayloadMass from tblSpaceX where Customer = 'NASA (CRS)'\",'TotalPayloadMass')\n",
    "ndf= pd.DataFrame(TPM)\n",
    "ndf.columns = ['Total Payload Mass']\n",
    "ndf"
   ]
  },
  {
   "cell_type": "markdown",
   "metadata": {},
   "source": [
    "#### Display average payload mass carried by booster version F9 v1.1\n"
   ]
  },
  {
   "cell_type": "code",
   "execution_count": 62,
   "metadata": {},
   "outputs": [
    {
     "data": {
      "text/html": [
       "<div>\n",
       "<style scoped>\n",
       "    .dataframe tbody tr th:only-of-type {\n",
       "        vertical-align: middle;\n",
       "    }\n",
       "\n",
       "    .dataframe tbody tr th {\n",
       "        vertical-align: top;\n",
       "    }\n",
       "\n",
       "    .dataframe thead th {\n",
       "        text-align: right;\n",
       "    }\n",
       "</style>\n",
       "<table border=\"1\" class=\"dataframe\">\n",
       "  <thead>\n",
       "    <tr style=\"text-align: right;\">\n",
       "      <th></th>\n",
       "      <th>Average Payload Mass</th>\n",
       "    </tr>\n",
       "  </thead>\n",
       "  <tbody>\n",
       "    <tr>\n",
       "      <th>0</th>\n",
       "      <td>2928</td>\n",
       "    </tr>\n",
       "  </tbody>\n",
       "</table>\n",
       "</div>"
      ],
      "text/plain": [
       "   Average Payload Mass\n",
       "0                  2928"
      ]
     },
     "execution_count": 62,
     "metadata": {},
     "output_type": "execute_result"
    }
   ],
   "source": [
    "APM = db.GetRecordsOfColumn(\"select AVG(PAYLOAD_MASS_KG_) AveragePayloadMass from tblSpaceX where Booster_Version = 'F9 v1.1'\",'AveragePayloadMass')\n",
    "ndf= pd.DataFrame(APM)\n",
    "ndf.columns = ['Average Payload Mass']\n",
    "ndf"
   ]
  },
  {
   "cell_type": "markdown",
   "metadata": {},
   "source": [
    "#### List the date where the succesful landing outcome in drone ship was acheived.\n"
   ]
  },
  {
   "cell_type": "code",
   "execution_count": 64,
   "metadata": {},
   "outputs": [
    {
     "data": {
      "text/html": [
       "<div>\n",
       "<style scoped>\n",
       "    .dataframe tbody tr th:only-of-type {\n",
       "        vertical-align: middle;\n",
       "    }\n",
       "\n",
       "    .dataframe tbody tr th {\n",
       "        vertical-align: top;\n",
       "    }\n",
       "\n",
       "    .dataframe thead th {\n",
       "        text-align: right;\n",
       "    }\n",
       "</style>\n",
       "<table border=\"1\" class=\"dataframe\">\n",
       "  <thead>\n",
       "    <tr style=\"text-align: right;\">\n",
       "      <th></th>\n",
       "      <th>Date which first Successful landing outcome in drone ship was acheived.</th>\n",
       "    </tr>\n",
       "  </thead>\n",
       "  <tbody>\n",
       "    <tr>\n",
       "      <th>0</th>\n",
       "      <td>06-05-2016</td>\n",
       "    </tr>\n",
       "  </tbody>\n",
       "</table>\n",
       "</div>"
      ],
      "text/plain": [
       "  Date which first Successful landing outcome in drone ship was acheived.\n",
       "0                                         06-05-2016                     "
      ]
     },
     "execution_count": 64,
     "metadata": {},
     "output_type": "execute_result"
    }
   ],
   "source": [
    "SLO = db.GetRecordsOfColumn(\"select MIN(Date) SLO from tblSpaceX where Landing_Outcome = 'Success (drone ship)'\",'SLO')\n",
    "ndf= pd.DataFrame(SLO)\n",
    "ndf.columns = ['Date which first Successful landing outcome in drone ship was acheived.']\n",
    "ndf"
   ]
  },
  {
   "cell_type": "markdown",
   "metadata": {},
   "source": [
    "#### List the names of the boosters which have success in ground pad  and have payload mass greater than 4000 but less than 6000\n"
   ]
  },
  {
   "cell_type": "code",
   "execution_count": 69,
   "metadata": {},
   "outputs": [
    {
     "data": {
      "text/html": [
       "<div>\n",
       "<style scoped>\n",
       "    .dataframe tbody tr th:only-of-type {\n",
       "        vertical-align: middle;\n",
       "    }\n",
       "\n",
       "    .dataframe tbody tr th {\n",
       "        vertical-align: top;\n",
       "    }\n",
       "\n",
       "    .dataframe thead th {\n",
       "        text-align: right;\n",
       "    }\n",
       "</style>\n",
       "<table border=\"1\" class=\"dataframe\">\n",
       "  <thead>\n",
       "    <tr style=\"text-align: right;\">\n",
       "      <th></th>\n",
       "      <th>Date which first Successful landing outcome in drone ship was acheived.</th>\n",
       "    </tr>\n",
       "  </thead>\n",
       "  <tbody>\n",
       "    <tr>\n",
       "      <th>0</th>\n",
       "      <td>F9 FT B1032.1</td>\n",
       "    </tr>\n",
       "    <tr>\n",
       "      <th>1</th>\n",
       "      <td>F9 B4 B1040.1</td>\n",
       "    </tr>\n",
       "    <tr>\n",
       "      <th>2</th>\n",
       "      <td>F9 B4 B1043.1</td>\n",
       "    </tr>\n",
       "  </tbody>\n",
       "</table>\n",
       "</div>"
      ],
      "text/plain": [
       "  Date which first Successful landing outcome in drone ship was acheived.\n",
       "0                                      F9 FT B1032.1                     \n",
       "1                                      F9 B4 B1040.1                     \n",
       "2                                      F9 B4 B1043.1                     "
      ]
     },
     "execution_count": 69,
     "metadata": {},
     "output_type": "execute_result"
    }
   ],
   "source": [
    "SLO = db.GetRecordsOfColumn(\"select Booster_Version from tblSpaceX where Landing_Outcome = 'Success (ground pad)' AND Payload_MASS_KG_ > 4000 AND Payload_MASS_KG_ < 6000\",'Booster_Version')\n",
    "ndf= pd.DataFrame(SLO)\n",
    "ndf.columns = ['Date which first Successful landing outcome in drone ship was acheived.']\n",
    "ndf"
   ]
  },
  {
   "cell_type": "markdown",
   "metadata": {},
   "source": [
    "#### List the total number of successful and failure mission outcomes\n"
   ]
  },
  {
   "cell_type": "code",
   "execution_count": 84,
   "metadata": {},
   "outputs": [
    {
     "data": {
      "text/html": [
       "<div>\n",
       "<style scoped>\n",
       "    .dataframe tbody tr th:only-of-type {\n",
       "        vertical-align: middle;\n",
       "    }\n",
       "\n",
       "    .dataframe tbody tr th {\n",
       "        vertical-align: top;\n",
       "    }\n",
       "\n",
       "    .dataframe thead th {\n",
       "        text-align: right;\n",
       "    }\n",
       "</style>\n",
       "<table border=\"1\" class=\"dataframe\">\n",
       "  <thead>\n",
       "    <tr style=\"text-align: right;\">\n",
       "      <th></th>\n",
       "      <th>Successful_Mission_Outcomes</th>\n",
       "      <th>Failure_Mission_Outcomes</th>\n",
       "    </tr>\n",
       "  </thead>\n",
       "  <tbody>\n",
       "    <tr>\n",
       "      <th>0</th>\n",
       "      <td>100</td>\n",
       "      <td>1</td>\n",
       "    </tr>\n",
       "  </tbody>\n",
       "</table>\n",
       "</div>"
      ],
      "text/plain": [
       "   Successful_Mission_Outcomes  Failure_Mission_Outcomes\n",
       "0                          100                         1"
      ]
     },
     "execution_count": 84,
     "metadata": {},
     "output_type": "execute_result"
    }
   ],
   "source": [
    "conn = pyodbc.connect('Driver={SQL Server};'\n",
    "                                  'Server=localhost;'\n",
    "                                  'Database=SpaceX;'\n",
    "                                  'User ID=admin;Password=admin;')\n",
    "cursor = conn.cursor()\n",
    "\n",
    "cursor.execute(\"SELECT(SELECT Count(Mission_Outcome) from tblSpaceX where Mission_Outcome LIKE '%Success%') as Successful_Mission_Outcomes,(SELECT Count(Mission_Outcome) from tblSpaceX where Mission_Outcome LIKE '%Failure%') as Failure_Mission_Outcomes\")\n",
    "columns = [column[0] for column in cursor.description]\n",
    "results = []\n",
    "for row in cursor.fetchall():   \n",
    "     results.append(dict(zip(columns, row)))\n",
    "\n",
    "df = pd.DataFrame.from_dict(results)\n",
    "df"
   ]
  },
  {
   "cell_type": "markdown",
   "metadata": {},
   "source": [
    "#### List the   names of the booster_versions which have carried the maximum payload mass. Use a subquery\n"
   ]
  },
  {
   "cell_type": "code",
   "execution_count": 94,
   "metadata": {},
   "outputs": [
    {
     "data": {
      "text/html": [
       "<div>\n",
       "<style scoped>\n",
       "    .dataframe tbody tr th:only-of-type {\n",
       "        vertical-align: middle;\n",
       "    }\n",
       "\n",
       "    .dataframe tbody tr th {\n",
       "        vertical-align: top;\n",
       "    }\n",
       "\n",
       "    .dataframe thead th {\n",
       "        text-align: right;\n",
       "    }\n",
       "</style>\n",
       "<table border=\"1\" class=\"dataframe\">\n",
       "  <thead>\n",
       "    <tr style=\"text-align: right;\">\n",
       "      <th></th>\n",
       "      <th>Booster_Version</th>\n",
       "      <th>Maximum Payload Mass</th>\n",
       "    </tr>\n",
       "  </thead>\n",
       "  <tbody>\n",
       "    <tr>\n",
       "      <th>0</th>\n",
       "      <td>F9 B5 B1048.4</td>\n",
       "      <td>15600</td>\n",
       "    </tr>\n",
       "    <tr>\n",
       "      <th>1</th>\n",
       "      <td>F9 B5 B1048.5</td>\n",
       "      <td>15600</td>\n",
       "    </tr>\n",
       "    <tr>\n",
       "      <th>2</th>\n",
       "      <td>F9 B5 B1049.4</td>\n",
       "      <td>15600</td>\n",
       "    </tr>\n",
       "    <tr>\n",
       "      <th>3</th>\n",
       "      <td>F9 B5 B1049.5</td>\n",
       "      <td>15600</td>\n",
       "    </tr>\n",
       "    <tr>\n",
       "      <th>4</th>\n",
       "      <td>F9 B5 B1049.7</td>\n",
       "      <td>15600</td>\n",
       "    </tr>\n",
       "    <tr>\n",
       "      <th>...</th>\n",
       "      <td>...</td>\n",
       "      <td>...</td>\n",
       "    </tr>\n",
       "    <tr>\n",
       "      <th>92</th>\n",
       "      <td>F9 v1.1  B1003</td>\n",
       "      <td>500</td>\n",
       "    </tr>\n",
       "    <tr>\n",
       "      <th>93</th>\n",
       "      <td>F9 FT B1038.1</td>\n",
       "      <td>475</td>\n",
       "    </tr>\n",
       "    <tr>\n",
       "      <th>94</th>\n",
       "      <td>F9 B4 B1045.1</td>\n",
       "      <td>362</td>\n",
       "    </tr>\n",
       "    <tr>\n",
       "      <th>95</th>\n",
       "      <td>F9 v1.0  B0003</td>\n",
       "      <td>0</td>\n",
       "    </tr>\n",
       "    <tr>\n",
       "      <th>96</th>\n",
       "      <td>F9 v1.0  B0004</td>\n",
       "      <td>0</td>\n",
       "    </tr>\n",
       "  </tbody>\n",
       "</table>\n",
       "<p>97 rows × 2 columns</p>\n",
       "</div>"
      ],
      "text/plain": [
       "   Booster_Version  Maximum Payload Mass\n",
       "0    F9 B5 B1048.4                 15600\n",
       "1    F9 B5 B1048.5                 15600\n",
       "2    F9 B5 B1049.4                 15600\n",
       "3    F9 B5 B1049.5                 15600\n",
       "4   F9 B5 B1049.7                  15600\n",
       "..             ...                   ...\n",
       "92  F9 v1.1  B1003                   500\n",
       "93   F9 FT B1038.1                   475\n",
       "94   F9 B4 B1045.1                   362\n",
       "95  F9 v1.0  B0003                     0\n",
       "96  F9 v1.0  B0004                     0\n",
       "\n",
       "[97 rows x 2 columns]"
      ]
     },
     "execution_count": 94,
     "metadata": {},
     "output_type": "execute_result"
    }
   ],
   "source": [
    "conn = pyodbc.connect('Driver={SQL Server};'\n",
    "                                  'Server=localhost;'\n",
    "                                  'Database=SpaceX;'\n",
    "                                  'User ID=admin;Password=admin;')\n",
    "cursor = conn.cursor()\n",
    "\n",
    "cursor.execute(\"SELECT DISTINCT Booster_Version, MAX(PAYLOAD_MASS_KG_) AS [Maximum Payload Mass] FROM tblSpaceX GROUP BY Booster_Version ORDER BY [Maximum Payload Mass] DESC\")\n",
    "columns = [column[0] for column in cursor.description]\n",
    "results = []\n",
    "for row in cursor.fetchall():   \n",
    "     results.append(dict(zip(columns, row)))\n",
    "\n",
    "df = pd.DataFrame.from_dict(results)\n",
    "df"
   ]
  },
  {
   "cell_type": "markdown",
   "metadata": {},
   "source": [
    "#### List the records which will display the month names, succesful landing_outcomes in ground pad ,booster versions, launch_site for the months in year 2017\n"
   ]
  },
  {
   "cell_type": "code",
   "execution_count": 96,
   "metadata": {},
   "outputs": [
    {
     "data": {
      "text/html": [
       "<div>\n",
       "<style scoped>\n",
       "    .dataframe tbody tr th:only-of-type {\n",
       "        vertical-align: middle;\n",
       "    }\n",
       "\n",
       "    .dataframe tbody tr th {\n",
       "        vertical-align: top;\n",
       "    }\n",
       "\n",
       "    .dataframe thead th {\n",
       "        text-align: right;\n",
       "    }\n",
       "</style>\n",
       "<table border=\"1\" class=\"dataframe\">\n",
       "  <thead>\n",
       "    <tr style=\"text-align: right;\">\n",
       "      <th></th>\n",
       "      <th>Month</th>\n",
       "      <th>Booster_Version</th>\n",
       "      <th>Launch_Site</th>\n",
       "      <th>Landing_Outcome</th>\n",
       "    </tr>\n",
       "  </thead>\n",
       "  <tbody>\n",
       "    <tr>\n",
       "      <th>0</th>\n",
       "      <td>January</td>\n",
       "      <td>F9 FT B1029.1</td>\n",
       "      <td>VAFB SLC-4E</td>\n",
       "      <td>Success (drone ship)</td>\n",
       "    </tr>\n",
       "    <tr>\n",
       "      <th>1</th>\n",
       "      <td>February</td>\n",
       "      <td>F9 FT B1031.1</td>\n",
       "      <td>KSC LC-39A</td>\n",
       "      <td>Success (ground pad)</td>\n",
       "    </tr>\n",
       "    <tr>\n",
       "      <th>2</th>\n",
       "      <td>March</td>\n",
       "      <td>F9 FT  B1021.2</td>\n",
       "      <td>KSC LC-39A</td>\n",
       "      <td>Success (drone ship)</td>\n",
       "    </tr>\n",
       "    <tr>\n",
       "      <th>3</th>\n",
       "      <td>May</td>\n",
       "      <td>F9 FT B1032.1</td>\n",
       "      <td>KSC LC-39A</td>\n",
       "      <td>Success (ground pad)</td>\n",
       "    </tr>\n",
       "    <tr>\n",
       "      <th>4</th>\n",
       "      <td>June</td>\n",
       "      <td>F9 FT B1035.1</td>\n",
       "      <td>KSC LC-39A</td>\n",
       "      <td>Success (ground pad)</td>\n",
       "    </tr>\n",
       "    <tr>\n",
       "      <th>5</th>\n",
       "      <td>June</td>\n",
       "      <td>F9 FT  B1029.2</td>\n",
       "      <td>KSC LC-39A</td>\n",
       "      <td>Success (drone ship)</td>\n",
       "    </tr>\n",
       "    <tr>\n",
       "      <th>6</th>\n",
       "      <td>June</td>\n",
       "      <td>F9 FT B1036.1</td>\n",
       "      <td>VAFB SLC-4E</td>\n",
       "      <td>Success (drone ship)</td>\n",
       "    </tr>\n",
       "    <tr>\n",
       "      <th>7</th>\n",
       "      <td>August</td>\n",
       "      <td>F9 B4 B1039.1</td>\n",
       "      <td>KSC LC-39A</td>\n",
       "      <td>Success (ground pad)</td>\n",
       "    </tr>\n",
       "    <tr>\n",
       "      <th>8</th>\n",
       "      <td>August</td>\n",
       "      <td>F9 FT B1038.1</td>\n",
       "      <td>VAFB SLC-4E</td>\n",
       "      <td>Success (drone ship)</td>\n",
       "    </tr>\n",
       "    <tr>\n",
       "      <th>9</th>\n",
       "      <td>September</td>\n",
       "      <td>F9 B4 B1040.1</td>\n",
       "      <td>KSC LC-39A</td>\n",
       "      <td>Success (ground pad)</td>\n",
       "    </tr>\n",
       "    <tr>\n",
       "      <th>10</th>\n",
       "      <td>October</td>\n",
       "      <td>F9 B4 B1041.1</td>\n",
       "      <td>VAFB SLC-4E</td>\n",
       "      <td>Success (drone ship)</td>\n",
       "    </tr>\n",
       "    <tr>\n",
       "      <th>11</th>\n",
       "      <td>October</td>\n",
       "      <td>F9 FT  B1031.2</td>\n",
       "      <td>KSC LC-39A</td>\n",
       "      <td>Success (drone ship)</td>\n",
       "    </tr>\n",
       "    <tr>\n",
       "      <th>12</th>\n",
       "      <td>October</td>\n",
       "      <td>F9 B4 B1042.1</td>\n",
       "      <td>KSC LC-39A</td>\n",
       "      <td>Success (drone ship)</td>\n",
       "    </tr>\n",
       "    <tr>\n",
       "      <th>13</th>\n",
       "      <td>December</td>\n",
       "      <td>F9 FT  B1035.2</td>\n",
       "      <td>CCAFS SLC-40</td>\n",
       "      <td>Success (ground pad)</td>\n",
       "    </tr>\n",
       "  </tbody>\n",
       "</table>\n",
       "</div>"
      ],
      "text/plain": [
       "        Month Booster_Version   Launch_Site       Landing_Outcome\n",
       "0     January   F9 FT B1029.1   VAFB SLC-4E  Success (drone ship)\n",
       "1    February   F9 FT B1031.1    KSC LC-39A  Success (ground pad)\n",
       "2       March  F9 FT  B1021.2    KSC LC-39A  Success (drone ship)\n",
       "3         May   F9 FT B1032.1    KSC LC-39A  Success (ground pad)\n",
       "4        June   F9 FT B1035.1    KSC LC-39A  Success (ground pad)\n",
       "5        June  F9 FT  B1029.2    KSC LC-39A  Success (drone ship)\n",
       "6        June   F9 FT B1036.1   VAFB SLC-4E  Success (drone ship)\n",
       "7      August   F9 B4 B1039.1    KSC LC-39A  Success (ground pad)\n",
       "8      August   F9 FT B1038.1   VAFB SLC-4E  Success (drone ship)\n",
       "9   September   F9 B4 B1040.1    KSC LC-39A  Success (ground pad)\n",
       "10    October   F9 B4 B1041.1   VAFB SLC-4E  Success (drone ship)\n",
       "11    October  F9 FT  B1031.2    KSC LC-39A  Success (drone ship)\n",
       "12    October   F9 B4 B1042.1    KSC LC-39A  Success (drone ship)\n",
       "13   December  F9 FT  B1035.2  CCAFS SLC-40  Success (ground pad)"
      ]
     },
     "execution_count": 96,
     "metadata": {},
     "output_type": "execute_result"
    }
   ],
   "source": [
    "conn = pyodbc.connect('Driver={SQL Server};'\n",
    "                                  'Server=localhost;'\n",
    "                                  'Database=SpaceX;'\n",
    "                                  'User ID=admin;Password=admin;')\n",
    "cursor = conn.cursor()\n",
    "\n",
    "cursor.execute(\"SELECT   DateName( month , DateAdd( month , MONTH(CONVERT(date,Date, 105)) , 0 ) - 1 )  as Month, Booster_Version, Launch_Site, Landing_Outcome FROM tblSpaceX WHERE  (Landing_Outcome LIKE N'%Success%') AND YEAR(CONVERT(date,Date, 105)) = '2017'\")\n",
    "columns = [column[0] for column in cursor.description]\n",
    "results = []\n",
    "for row in cursor.fetchall():   \n",
    "     results.append(dict(zip(columns, row)))\n",
    "\n",
    "df = pd.DataFrame.from_dict(results)\n",
    "df"
   ]
  },
  {
   "cell_type": "markdown",
   "metadata": {},
   "source": [
    "#### Rank the  count of  successful landing_outcomes between the date 2010-06-04 and 2017-03-20 in descending order.\n"
   ]
  },
  {
   "cell_type": "code",
   "execution_count": 90,
   "metadata": {},
   "outputs": [
    {
     "data": {
      "text/html": [
       "<div>\n",
       "<style scoped>\n",
       "    .dataframe tbody tr th:only-of-type {\n",
       "        vertical-align: middle;\n",
       "    }\n",
       "\n",
       "    .dataframe tbody tr th {\n",
       "        vertical-align: top;\n",
       "    }\n",
       "\n",
       "    .dataframe thead th {\n",
       "        text-align: right;\n",
       "    }\n",
       "</style>\n",
       "<table border=\"1\" class=\"dataframe\">\n",
       "  <thead>\n",
       "    <tr style=\"text-align: right;\">\n",
       "      <th></th>\n",
       "      <th>Successful Landing Outcomes Between 2010-06-04 and 2017-03-20</th>\n",
       "    </tr>\n",
       "  </thead>\n",
       "  <tbody>\n",
       "    <tr>\n",
       "      <th>0</th>\n",
       "      <td>34</td>\n",
       "    </tr>\n",
       "  </tbody>\n",
       "</table>\n",
       "</div>"
      ],
      "text/plain": [
       "   Successful Landing Outcomes Between 2010-06-04 and 2017-03-20\n",
       "0                                                 34            "
      ]
     },
     "execution_count": 90,
     "metadata": {},
     "output_type": "execute_result"
    }
   ],
   "source": [
    "sl = db.GetRecordsOfColumn(\"SELECT COUNT(Landing_Outcome) AS sl FROM dbo.tblSpaceX WHERE (Landing_Outcome LIKE '%Success%') AND (Date >'04-06-2010') AND (Date < '20-03-2017')\",'sl')\n",
    "\n",
    "ndf= pd.DataFrame(sl)\n",
    "ndf.columns = ['Successful Landing Outcomes Between 2010-06-04 and 2017-03-20']\n",
    "ndf"
   ]
  },
  {
   "cell_type": "markdown",
   "metadata": {},
   "source": [
    "### Author : Atakan KÖREZ"
   ]
  },
  {
   "cell_type": "code",
   "execution_count": null,
   "metadata": {},
   "outputs": [],
   "source": []
  }
 ],
 "metadata": {
  "interpreter": {
   "hash": "c3ae22b844db142b40ee44c017e19b92c4d7208685f48a9abdf5417629f14980"
  },
  "kernelspec": {
   "display_name": "Python 3 (ipykernel)",
   "language": "python",
   "name": "python3"
  },
  "language_info": {
   "codemirror_mode": {
    "name": "ipython",
    "version": 3
   },
   "file_extension": ".py",
   "mimetype": "text/x-python",
   "name": "python",
   "nbconvert_exporter": "python",
   "pygments_lexer": "ipython3",
   "version": "3.7.4"
  }
 },
 "nbformat": 4,
 "nbformat_minor": 4
}
